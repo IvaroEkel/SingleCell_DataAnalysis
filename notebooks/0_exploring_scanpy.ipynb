{
 "cells": [
  {
   "cell_type": "code",
   "execution_count": 1,
   "metadata": {},
   "outputs": [
    {
     "data": {
      "text/plain": [
       "'/home/user/CODE/Bioinformatics/SingleCell_DataAnalysis/notebooks'"
      ]
     },
     "execution_count": 1,
     "metadata": {},
     "output_type": "execute_result"
    }
   ],
   "source": [
    "pwd()"
   ]
  },
  {
   "cell_type": "code",
   "execution_count": 3,
   "metadata": {},
   "outputs": [
    {
     "name": "stdout",
     "output_type": "stream",
     "text": [
      "anndata==0.9.1\n",
      "asttokens==2.2.1\n",
      "backcall==0.2.0\n",
      "comm==0.1.3\n",
      "contourpy==1.0.7\n",
      "cycler==0.11.0\n",
      "debugpy==1.6.7\n",
      "decorator==5.1.1\n",
      "executing==1.2.0\n",
      "fonttools==4.39.3\n",
      "h5py==3.8.0\n",
      "importlib-metadata==6.6.0\n",
      "importlib-resources==5.12.0\n",
      "ipykernel==6.22.0\n",
      "ipython==8.13.1\n",
      "jedi==0.18.2\n",
      "joblib==1.2.0\n",
      "jupyter_client==8.2.0\n",
      "jupyter_core==5.3.0\n",
      "kiwisolver==1.4.4\n",
      "llvmlite==0.39.1\n",
      "matplotlib==3.7.1\n",
      "matplotlib-inline==0.1.6\n",
      "natsort==8.3.1\n",
      "nest-asyncio==1.5.6\n",
      "networkx==3.1\n",
      "numba==0.56.4\n",
      "numpy==1.23.5\n",
      "packaging==23.1\n",
      "pandas==2.0.1\n",
      "parso==0.8.3\n",
      "patsy==0.5.3\n",
      "pexpect==4.8.0\n",
      "pickleshare==0.7.5\n",
      "Pillow==9.5.0\n",
      "platformdirs==3.5.0\n",
      "prompt-toolkit==3.0.38\n",
      "psutil==5.9.5\n",
      "ptyprocess==0.7.0\n",
      "pure-eval==0.2.2\n",
      "Pygments==2.15.1\n",
      "pynndescent==0.5.10\n",
      "pyparsing==3.0.9\n",
      "python-dateutil==2.8.2\n",
      "pytz==2023.3\n",
      "pyzmq==25.0.2\n",
      "scanpy==1.9.3\n",
      "scikit-learn==1.2.2\n",
      "scipy==1.10.1\n",
      "seaborn==0.12.2\n",
      "session-info==1.0.0\n",
      "six==1.16.0\n",
      "stack-data==0.6.2\n",
      "statsmodels==0.14.0rc0\n",
      "stdlib-list==0.8.0\n",
      "threadpoolctl==3.1.0\n",
      "tornado==6.3.1\n",
      "tqdm==4.65.0\n",
      "traitlets==5.9.0\n",
      "typing_extensions==4.5.0\n",
      "tzdata==2023.3\n",
      "umap-learn==0.5.3\n",
      "wcwidth==0.2.6\n",
      "zipp==3.15.0\n"
     ]
    }
   ],
   "source": [
    "!pip freeze"
   ]
  },
  {
   "cell_type": "code",
   "execution_count": 4,
   "metadata": {},
   "outputs": [
    {
     "name": "stdout",
     "output_type": "stream",
     "text": [
      "Requirement already satisfied: seaborn in /home/user/CODE/Bioinformatics/SingleCell_DataAnalysis/scda/lib/python3.9/site-packages (0.12.2)\n",
      "Collecting sklearn\n",
      "  Downloading sklearn-0.0.post4.tar.gz (3.6 kB)\n",
      "  Preparing metadata (setup.py) ... \u001b[?25ldone\n",
      "\u001b[?25hRequirement already satisfied: scipy in /home/user/CODE/Bioinformatics/SingleCell_DataAnalysis/scda/lib/python3.9/site-packages (1.10.1)\n",
      "Requirement already satisfied: statsmodels in /home/user/CODE/Bioinformatics/SingleCell_DataAnalysis/scda/lib/python3.9/site-packages (0.14.0rc0)\n",
      "Requirement already satisfied: numpy!=1.24.0,>=1.17 in /home/user/CODE/Bioinformatics/SingleCell_DataAnalysis/scda/lib/python3.9/site-packages (from seaborn) (1.23.5)\n",
      "Requirement already satisfied: pandas>=0.25 in /home/user/CODE/Bioinformatics/SingleCell_DataAnalysis/scda/lib/python3.9/site-packages (from seaborn) (2.0.1)\n",
      "Requirement already satisfied: matplotlib!=3.6.1,>=3.1 in /home/user/CODE/Bioinformatics/SingleCell_DataAnalysis/scda/lib/python3.9/site-packages (from seaborn) (3.7.1)\n",
      "Requirement already satisfied: patsy>=0.5.2 in /home/user/CODE/Bioinformatics/SingleCell_DataAnalysis/scda/lib/python3.9/site-packages (from statsmodels) (0.5.3)\n",
      "Requirement already satisfied: packaging>=21.3 in /home/user/CODE/Bioinformatics/SingleCell_DataAnalysis/scda/lib/python3.9/site-packages (from statsmodels) (23.1)\n",
      "Requirement already satisfied: contourpy>=1.0.1 in /home/user/CODE/Bioinformatics/SingleCell_DataAnalysis/scda/lib/python3.9/site-packages (from matplotlib!=3.6.1,>=3.1->seaborn) (1.0.7)\n",
      "Requirement already satisfied: cycler>=0.10 in /home/user/CODE/Bioinformatics/SingleCell_DataAnalysis/scda/lib/python3.9/site-packages (from matplotlib!=3.6.1,>=3.1->seaborn) (0.11.0)\n",
      "Requirement already satisfied: fonttools>=4.22.0 in /home/user/CODE/Bioinformatics/SingleCell_DataAnalysis/scda/lib/python3.9/site-packages (from matplotlib!=3.6.1,>=3.1->seaborn) (4.39.3)\n",
      "Requirement already satisfied: kiwisolver>=1.0.1 in /home/user/CODE/Bioinformatics/SingleCell_DataAnalysis/scda/lib/python3.9/site-packages (from matplotlib!=3.6.1,>=3.1->seaborn) (1.4.4)\n",
      "Requirement already satisfied: pillow>=6.2.0 in /home/user/CODE/Bioinformatics/SingleCell_DataAnalysis/scda/lib/python3.9/site-packages (from matplotlib!=3.6.1,>=3.1->seaborn) (9.5.0)\n",
      "Requirement already satisfied: pyparsing>=2.3.1 in /home/user/CODE/Bioinformatics/SingleCell_DataAnalysis/scda/lib/python3.9/site-packages (from matplotlib!=3.6.1,>=3.1->seaborn) (3.0.9)\n",
      "Requirement already satisfied: python-dateutil>=2.7 in /home/user/CODE/Bioinformatics/SingleCell_DataAnalysis/scda/lib/python3.9/site-packages (from matplotlib!=3.6.1,>=3.1->seaborn) (2.8.2)\n",
      "Requirement already satisfied: importlib-resources>=3.2.0 in /home/user/CODE/Bioinformatics/SingleCell_DataAnalysis/scda/lib/python3.9/site-packages (from matplotlib!=3.6.1,>=3.1->seaborn) (5.12.0)\n",
      "Requirement already satisfied: pytz>=2020.1 in /home/user/CODE/Bioinformatics/SingleCell_DataAnalysis/scda/lib/python3.9/site-packages (from pandas>=0.25->seaborn) (2023.3)\n",
      "Requirement already satisfied: tzdata>=2022.1 in /home/user/CODE/Bioinformatics/SingleCell_DataAnalysis/scda/lib/python3.9/site-packages (from pandas>=0.25->seaborn) (2023.3)\n",
      "Requirement already satisfied: six in /home/user/CODE/Bioinformatics/SingleCell_DataAnalysis/scda/lib/python3.9/site-packages (from patsy>=0.5.2->statsmodels) (1.16.0)\n",
      "Requirement already satisfied: zipp>=3.1.0 in /home/user/CODE/Bioinformatics/SingleCell_DataAnalysis/scda/lib/python3.9/site-packages (from importlib-resources>=3.2.0->matplotlib!=3.6.1,>=3.1->seaborn) (3.15.0)\n",
      "Building wheels for collected packages: sklearn\n",
      "  Building wheel for sklearn (setup.py) ... \u001b[?25ldone\n",
      "\u001b[?25h  Created wheel for sklearn: filename=sklearn-0.0.post4-py3-none-any.whl size=2951 sha256=506abd28b947b16bd85758705c121901758bdf5e433567a23c2a59c93e9a29c3\n",
      "  Stored in directory: /home/user/.cache/pip/wheels/d5/b2/a9/590d15767d34955f20a9a033e8db973b79cb5672d95790c0a9\n",
      "Successfully built sklearn\n",
      "Installing collected packages: sklearn\n",
      "Successfully installed sklearn-0.0.post4\n"
     ]
    }
   ],
   "source": [
    "!pip install seaborn sklearn scipy statsmodels"
   ]
  },
  {
   "cell_type": "code",
   "execution_count": 7,
   "metadata": {},
   "outputs": [],
   "source": [
    "import os\n",
    "os.chdir('../src/')\n",
    "%run -i setup.py # the -i flag is for interactive mode"
   ]
  },
  {
   "cell_type": "code",
   "execution_count": null,
   "metadata": {},
   "outputs": [],
   "source": []
  }
 ],
 "metadata": {
  "kernelspec": {
   "display_name": "scda",
   "language": "python",
   "name": "python3"
  },
  "language_info": {
   "codemirror_mode": {
    "name": "ipython",
    "version": 3
   },
   "file_extension": ".py",
   "mimetype": "text/x-python",
   "name": "python",
   "nbconvert_exporter": "python",
   "pygments_lexer": "ipython3",
   "version": "3.9.16"
  },
  "orig_nbformat": 4
 },
 "nbformat": 4,
 "nbformat_minor": 2
}
