{
 "cells": [
  {
   "cell_type": "code",
   "execution_count": 1,
   "metadata": {},
   "outputs": [
    {
     "data": {
      "text/plain": [
       "'/home/user/CODE/Bioinformatics/SingleCell_DataAnalysis/notebooks'"
      ]
     },
     "execution_count": 1,
     "metadata": {},
     "output_type": "execute_result"
    }
   ],
   "source": [
    "pwd()"
   ]
  },
  {
   "cell_type": "code",
   "execution_count": 2,
   "metadata": {},
   "outputs": [],
   "source": [
    "import os\n",
    "os.chdir('/home/user/CODE/Bioinformatics/SingleCell_DataAnalysis/src/')\n",
    "%run setup.py"
   ]
  },
  {
   "cell_type": "code",
   "execution_count": 4,
   "metadata": {},
   "outputs": [],
   "source": [
    "# make data directory\n",
    "os.chdir('/home/user/CODE/Bioinformatics/SingleCell_DataAnalysis/')\n",
    "# !mkdir -p ../data # -p flag creates parent directories if they don't exist\n",
    "!mkdir -p data"
   ]
  },
  {
   "attachments": {},
   "cell_type": "markdown",
   "metadata": {},
   "source": [
    "The data consist of 3k PBMCs from a Healthy Donor and are freely available from 10x Genomics (here from this webpage). On a unix system, you can uncomment and run the following to download and unpack the data. The last line creates a directory for writing processed data."
   ]
  },
  {
   "cell_type": "code",
   "execution_count": null,
   "metadata": {},
   "outputs": [],
   "source": [
    "# change to the data folder to download all the datasets we will be using later to play with\n",
    "os.chdir('/home/user/CODE/Bioinformatics/SingleCell_DataAnalysis/data/')\n",
    "# from the tutorial: (https://scanpy-tutorials.readthedocs.io/en/latest/pbmc3k.html)\n",
    "# !wget http://cf.10xgenomics.com/samples/cell-exp/1.1.0/pbmc3k/pbmc3k_filtered_gene_bc_matrices.tar.gz -O pbmc3k_filtered_gene_bc_matrices.tar.gz\n",
    "# better to do the !weget in the terminal, then unzip the file in the terminal\n",
    "# !tar -zxvf data/pbmc3k_filtered_gene_bc_matrices.tar.gz -C data/\n",
    "# !tar -zxvf pbmc3k_filtered_gene_bc_matrices.tar.gz"
   ]
  },
  {
   "cell_type": "code",
   "execution_count": 8,
   "metadata": {},
   "outputs": [
    {
     "name": "stdout",
     "output_type": "stream",
     "text": [
      "[main 28cf78a] added data folder and downloaded pbmc3k dataset\n",
      " 1 file changed, 2 insertions(+)\n"
     ]
    }
   ],
   "source": [
    "os.chdir('/home/user/CODE/Bioinformatics/SingleCell_DataAnalysis/')\n",
    "# add the data folder and the scanpy tutorial to gitignore\n",
    "!echo \"data/\" >> .gitignore\n",
    "!echo \"scanpy-tutorials/\" >> .gitignore\n",
    "# add and commit changes to git\n",
    "!git add .\n",
    "!git commit -m \"added data folder and downloaded pbmc3k dataset\""
   ]
  },
  {
   "cell_type": "code",
   "execution_count": 9,
   "metadata": {},
   "outputs": [
    {
     "name": "stdout",
     "output_type": "stream",
     "text": [
      "On branch main\n",
      "Your branch is ahead of 'origin/main' by 2 commits.\n",
      "  (use \"git push\" to publish your local commits)\n",
      "\n",
      "nothing to commit, working tree clean\n"
     ]
    }
   ],
   "source": [
    "!git status"
   ]
  },
  {
   "cell_type": "code",
   "execution_count": null,
   "metadata": {},
   "outputs": [],
   "source": []
  }
 ],
 "metadata": {
  "kernelspec": {
   "display_name": "scda",
   "language": "python",
   "name": "python3"
  },
  "language_info": {
   "codemirror_mode": {
    "name": "ipython",
    "version": 3
   },
   "file_extension": ".py",
   "mimetype": "text/x-python",
   "name": "python",
   "nbconvert_exporter": "python",
   "pygments_lexer": "ipython3",
   "version": "3.9.16"
  },
  "orig_nbformat": 4
 },
 "nbformat": 4,
 "nbformat_minor": 2
}
